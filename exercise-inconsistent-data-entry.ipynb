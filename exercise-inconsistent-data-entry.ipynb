{
 "cells": [
  {
   "cell_type": "markdown",
   "id": "a6923075",
   "metadata": {
    "papermill": {
     "duration": 0.009474,
     "end_time": "2023-09-09T07:42:13.822400",
     "exception": false,
     "start_time": "2023-09-09T07:42:13.812926",
     "status": "completed"
    },
    "tags": []
   },
   "source": [
    "**This notebook is an exercise in the [Data Cleaning](https://www.kaggle.com/learn/data-cleaning) course.  You can reference the tutorial at [this link](https://www.kaggle.com/alexisbcook/inconsistent-data-entry).**\n",
    "\n",
    "---\n"
   ]
  },
  {
   "cell_type": "markdown",
   "id": "9afe8648",
   "metadata": {
    "papermill": {
     "duration": 0.008363,
     "end_time": "2023-09-09T07:42:13.839695",
     "exception": false,
     "start_time": "2023-09-09T07:42:13.831332",
     "status": "completed"
    },
    "tags": []
   },
   "source": [
    "In this exercise, you'll apply what you learned in the **Inconsistent data entry** tutorial.\n",
    "\n",
    "# Setup\n",
    "\n",
    "The questions below will give you feedback on your work. Run the following cell to set up the feedback system."
   ]
  },
  {
   "cell_type": "code",
   "execution_count": 1,
   "id": "359de61c",
   "metadata": {
    "execution": {
     "iopub.execute_input": "2023-09-09T07:42:13.859059Z",
     "iopub.status.busy": "2023-09-09T07:42:13.858590Z",
     "iopub.status.idle": "2023-09-09T07:42:14.454312Z",
     "shell.execute_reply": "2023-09-09T07:42:14.453077Z"
    },
    "papermill": {
     "duration": 0.608801,
     "end_time": "2023-09-09T07:42:14.457268",
     "exception": false,
     "start_time": "2023-09-09T07:42:13.848467",
     "status": "completed"
    },
    "tags": []
   },
   "outputs": [
    {
     "name": "stdout",
     "output_type": "stream",
     "text": [
      "Setup Complete\n"
     ]
    }
   ],
   "source": [
    "from learntools.core import binder\n",
    "binder.bind(globals())\n",
    "from learntools.data_cleaning.ex5 import *\n",
    "print(\"Setup Complete\")"
   ]
  },
  {
   "cell_type": "markdown",
   "id": "5602447d",
   "metadata": {
    "papermill": {
     "duration": 0.008588,
     "end_time": "2023-09-09T07:42:14.475071",
     "exception": false,
     "start_time": "2023-09-09T07:42:14.466483",
     "status": "completed"
    },
    "tags": []
   },
   "source": [
    "# Get our environment set up\n",
    "\n",
    "The first thing we'll need to do is load in the libraries and dataset we'll be using.  We use the same dataset from the tutorial."
   ]
  },
  {
   "cell_type": "code",
   "execution_count": 2,
   "id": "323b98c9",
   "metadata": {
    "execution": {
     "iopub.execute_input": "2023-09-09T07:42:14.494855Z",
     "iopub.status.busy": "2023-09-09T07:42:14.493854Z",
     "iopub.status.idle": "2023-09-09T07:42:14.511081Z",
     "shell.execute_reply": "2023-09-09T07:42:14.509748Z"
    },
    "papermill": {
     "duration": 0.030358,
     "end_time": "2023-09-09T07:42:14.514104",
     "exception": false,
     "start_time": "2023-09-09T07:42:14.483746",
     "status": "completed"
    },
    "tags": []
   },
   "outputs": [],
   "source": [
    "# modules we'll use\n",
    "import pandas as pd\n",
    "import numpy as np\n",
    "\n",
    "# helpful modules\n",
    "import fuzzywuzzy\n",
    "from fuzzywuzzy import process\n",
    "import charset_normalizer\n",
    "\n",
    "# read in all our data\n",
    "professors = pd.read_csv(\"../input/pakistan-intellectual-capital/pakistan_intellectual_capital.csv\")\n",
    "\n",
    "# set seed for reproducibility\n",
    "np.random.seed(0)"
   ]
  },
  {
   "cell_type": "markdown",
   "id": "849cdafb",
   "metadata": {
    "papermill": {
     "duration": 0.008376,
     "end_time": "2023-09-09T07:42:14.531279",
     "exception": false,
     "start_time": "2023-09-09T07:42:14.522903",
     "status": "completed"
    },
    "tags": []
   },
   "source": [
    "Next, we'll redo all of the work that we did in the tutorial."
   ]
  },
  {
   "cell_type": "code",
   "execution_count": 3,
   "id": "5a1aa7e2",
   "metadata": {
    "execution": {
     "iopub.execute_input": "2023-09-09T07:42:14.550412Z",
     "iopub.status.busy": "2023-09-09T07:42:14.549983Z",
     "iopub.status.idle": "2023-09-09T07:42:14.566222Z",
     "shell.execute_reply": "2023-09-09T07:42:14.565123Z"
    },
    "papermill": {
     "duration": 0.02853,
     "end_time": "2023-09-09T07:42:14.568463",
     "exception": false,
     "start_time": "2023-09-09T07:42:14.539933",
     "status": "completed"
    },
    "tags": []
   },
   "outputs": [
    {
     "name": "stdout",
     "output_type": "stream",
     "text": [
      "All done!\n"
     ]
    }
   ],
   "source": [
    "# convert to lower case\n",
    "professors['Country'] = professors['Country'].str.lower()\n",
    "# remove trailing white spaces\n",
    "professors['Country'] = professors['Country'].str.strip()\n",
    "\n",
    "# get the top 10 closest matches to \"south korea\"\n",
    "countries = professors['Country'].unique()\n",
    "matches = fuzzywuzzy.process.extract(\"south korea\", countries, limit=10, scorer=fuzzywuzzy.fuzz.token_sort_ratio)\n",
    "\n",
    "def replace_matches_in_column(df, column, string_to_match, min_ratio = 47):\n",
    "    # get a list of unique strings\n",
    "    strings = df[column].unique()\n",
    "    \n",
    "    # get the top 10 closest matches to our input string\n",
    "    matches = fuzzywuzzy.process.extract(string_to_match, strings, \n",
    "                                         limit=10, scorer=fuzzywuzzy.fuzz.token_sort_ratio)\n",
    "\n",
    "    # only get matches with a ratio > 90\n",
    "    close_matches = [matches[0] for matches in matches if matches[1] >= min_ratio]\n",
    "\n",
    "    # get the rows of all the close matches in our dataframe\n",
    "    rows_with_matches = df[column].isin(close_matches)\n",
    "\n",
    "    # replace all rows with close matches with the input matches \n",
    "    df.loc[rows_with_matches, column] = string_to_match\n",
    "    \n",
    "    # let us know the function's done\n",
    "    print(\"All done!\")\n",
    "    \n",
    "replace_matches_in_column(df=professors, column='Country', string_to_match=\"south korea\")\n",
    "countries = professors['Country'].unique()"
   ]
  },
  {
   "cell_type": "markdown",
   "id": "31153432",
   "metadata": {
    "papermill": {
     "duration": 0.008487,
     "end_time": "2023-09-09T07:42:14.585804",
     "exception": false,
     "start_time": "2023-09-09T07:42:14.577317",
     "status": "completed"
    },
    "tags": []
   },
   "source": [
    "# 1) Examine another column\n",
    "\n",
    "Write code below to take a look at all the unique values in the \"Graduated from\" column."
   ]
  },
  {
   "cell_type": "code",
   "execution_count": 4,
   "id": "e6628172",
   "metadata": {
    "execution": {
     "iopub.execute_input": "2023-09-09T07:42:14.605361Z",
     "iopub.status.busy": "2023-09-09T07:42:14.604923Z",
     "iopub.status.idle": "2023-09-09T07:42:14.610542Z",
     "shell.execute_reply": "2023-09-09T07:42:14.609202Z"
    },
    "papermill": {
     "duration": 0.018278,
     "end_time": "2023-09-09T07:42:14.612886",
     "exception": false,
     "start_time": "2023-09-09T07:42:14.594608",
     "status": "completed"
    },
    "tags": []
   },
   "outputs": [],
   "source": [
    "# TODO: Your code here\n",
    "Universities = professors['Graduated from'].unique()"
   ]
  },
  {
   "cell_type": "markdown",
   "id": "f0dbfc7c",
   "metadata": {
    "papermill": {
     "duration": 0.008676,
     "end_time": "2023-09-09T07:42:14.630543",
     "exception": false,
     "start_time": "2023-09-09T07:42:14.621867",
     "status": "completed"
    },
    "tags": []
   },
   "source": [
    "Do you notice any inconsistencies in the data?  Can any of the inconsistencies in the data be fixed by removing white spaces at the beginning and end of cells?\n",
    "\n",
    "Once you have answered these questions, run the code cell below to get credit for your work."
   ]
  },
  {
   "cell_type": "code",
   "execution_count": 5,
   "id": "71d9eb6f",
   "metadata": {
    "execution": {
     "iopub.execute_input": "2023-09-09T07:42:14.650458Z",
     "iopub.status.busy": "2023-09-09T07:42:14.650032Z",
     "iopub.status.idle": "2023-09-09T07:42:14.660150Z",
     "shell.execute_reply": "2023-09-09T07:42:14.659076Z"
    },
    "papermill": {
     "duration": 0.022944,
     "end_time": "2023-09-09T07:42:14.662396",
     "exception": false,
     "start_time": "2023-09-09T07:42:14.639452",
     "status": "completed"
    },
    "tags": []
   },
   "outputs": [
    {
     "data": {
      "application/javascript": [
       "parent.postMessage({\"jupyterEvent\": \"custom.exercise_interaction\", \"data\": {\"outcomeType\": 1, \"valueTowardsCompletion\": 0.3333333333333333, \"interactionType\": 1, \"questionType\": 4, \"questionId\": \"1_ExamineProvince\", \"learnToolsVersion\": \"0.3.4\", \"failureMessage\": \"\", \"exceptionClass\": \"\", \"trace\": \"\"}}, \"*\")"
      ],
      "text/plain": [
       "<IPython.core.display.Javascript object>"
      ]
     },
     "metadata": {},
     "output_type": "display_data"
    },
    {
     "data": {
      "text/markdown": [
       "<span style=\"color:#33cc33\">Correct:</span> \n",
       "\n",
       "There are inconsistencies that can be fixed by removing white spaces at the beginning and end of cells.  For instance, \"University of Central Florida\" and \" University of Central Florida\" both appear in the column."
      ],
      "text/plain": [
       "Correct: \n",
       "\n",
       "There are inconsistencies that can be fixed by removing white spaces at the beginning and end of cells.  For instance, \"University of Central Florida\" and \" University of Central Florida\" both appear in the column."
      ]
     },
     "metadata": {},
     "output_type": "display_data"
    }
   ],
   "source": [
    "# Check your answer (Run this code cell to receive credit!)\n",
    "q1.check()"
   ]
  },
  {
   "cell_type": "markdown",
   "id": "274939ed",
   "metadata": {
    "papermill": {
     "duration": 0.008951,
     "end_time": "2023-09-09T07:42:14.680551",
     "exception": false,
     "start_time": "2023-09-09T07:42:14.671600",
     "status": "completed"
    },
    "tags": []
   },
   "source": [
    "There are inconsistencies that can be fixed by removing white spaces at the beginning and end of cells. For instance, \"University of Central Florida\" and \" University of Central Florida\" both appear in the column."
   ]
  },
  {
   "cell_type": "code",
   "execution_count": 6,
   "id": "ace93dfa",
   "metadata": {
    "execution": {
     "iopub.execute_input": "2023-09-09T07:42:14.701710Z",
     "iopub.status.busy": "2023-09-09T07:42:14.701304Z",
     "iopub.status.idle": "2023-09-09T07:42:14.706490Z",
     "shell.execute_reply": "2023-09-09T07:42:14.705279Z"
    },
    "papermill": {
     "duration": 0.018646,
     "end_time": "2023-09-09T07:42:14.708696",
     "exception": false,
     "start_time": "2023-09-09T07:42:14.690050",
     "status": "completed"
    },
    "tags": []
   },
   "outputs": [],
   "source": [
    "# Line below will give you a hint\n",
    "#q1.hint()"
   ]
  },
  {
   "cell_type": "markdown",
   "id": "0e56d3bf",
   "metadata": {
    "papermill": {
     "duration": 0.009045,
     "end_time": "2023-09-09T07:42:14.727148",
     "exception": false,
     "start_time": "2023-09-09T07:42:14.718103",
     "status": "completed"
    },
    "tags": []
   },
   "source": [
    "# 2) Do some text pre-processing\n",
    "\n",
    "Convert every entry in the \"Graduated from\" column in the `professors` DataFrame to remove white spaces at the beginning and end of cells."
   ]
  },
  {
   "cell_type": "code",
   "execution_count": 7,
   "id": "6141a7b9",
   "metadata": {
    "execution": {
     "iopub.execute_input": "2023-09-09T07:42:14.747708Z",
     "iopub.status.busy": "2023-09-09T07:42:14.747310Z",
     "iopub.status.idle": "2023-09-09T07:42:14.759775Z",
     "shell.execute_reply": "2023-09-09T07:42:14.758770Z"
    },
    "papermill": {
     "duration": 0.025369,
     "end_time": "2023-09-09T07:42:14.761927",
     "exception": false,
     "start_time": "2023-09-09T07:42:14.736558",
     "status": "completed"
    },
    "tags": []
   },
   "outputs": [
    {
     "data": {
      "application/javascript": [
       "parent.postMessage({\"jupyterEvent\": \"custom.exercise_interaction\", \"data\": {\"outcomeType\": 1, \"valueTowardsCompletion\": 0.3333333333333333, \"interactionType\": 1, \"questionType\": 1, \"questionId\": \"2_TextProcessing\", \"learnToolsVersion\": \"0.3.4\", \"failureMessage\": \"\", \"exceptionClass\": \"\", \"trace\": \"\"}}, \"*\")"
      ],
      "text/plain": [
       "<IPython.core.display.Javascript object>"
      ]
     },
     "metadata": {},
     "output_type": "display_data"
    },
    {
     "data": {
      "text/markdown": [
       "<span style=\"color:#33cc33\">Correct</span>"
      ],
      "text/plain": [
       "Correct"
      ]
     },
     "metadata": {},
     "output_type": "display_data"
    }
   ],
   "source": [
    "# TODO: Your code here\n",
    "professors['Graduated from'] = professors['Graduated from'].str.strip()\n",
    "\n",
    "# Check your answer\n",
    "q2.check()"
   ]
  },
  {
   "cell_type": "code",
   "execution_count": 8,
   "id": "92f2ca05",
   "metadata": {
    "execution": {
     "iopub.execute_input": "2023-09-09T07:42:14.783230Z",
     "iopub.status.busy": "2023-09-09T07:42:14.782803Z",
     "iopub.status.idle": "2023-09-09T07:42:14.787371Z",
     "shell.execute_reply": "2023-09-09T07:42:14.786301Z"
    },
    "papermill": {
     "duration": 0.017951,
     "end_time": "2023-09-09T07:42:14.789796",
     "exception": false,
     "start_time": "2023-09-09T07:42:14.771845",
     "status": "completed"
    },
    "tags": []
   },
   "outputs": [],
   "source": [
    "# Lines below will give you a hint or solution code\n",
    "#q2.hint()\n",
    "#q2.solution()"
   ]
  },
  {
   "cell_type": "markdown",
   "id": "41ffb096",
   "metadata": {
    "papermill": {
     "duration": 0.009188,
     "end_time": "2023-09-09T07:42:14.808865",
     "exception": false,
     "start_time": "2023-09-09T07:42:14.799677",
     "status": "completed"
    },
    "tags": []
   },
   "source": [
    "# 3) Continue working with countries\n",
    "\n",
    "In the tutorial, we focused on cleaning up inconsistencies in the \"Country\" column.  Run the code cell below to view the list of unique values that we ended with."
   ]
  },
  {
   "cell_type": "code",
   "execution_count": 9,
   "id": "86ab3dbc",
   "metadata": {
    "execution": {
     "iopub.execute_input": "2023-09-09T07:42:14.829908Z",
     "iopub.status.busy": "2023-09-09T07:42:14.829501Z",
     "iopub.status.idle": "2023-09-09T07:42:14.837405Z",
     "shell.execute_reply": "2023-09-09T07:42:14.836601Z"
    },
    "papermill": {
     "duration": 0.021021,
     "end_time": "2023-09-09T07:42:14.839653",
     "exception": false,
     "start_time": "2023-09-09T07:42:14.818632",
     "status": "completed"
    },
    "tags": []
   },
   "outputs": [
    {
     "data": {
      "text/plain": [
       "array(['australia', 'austria', 'canada', 'china', 'finland', 'france',\n",
       "       'germany', 'greece', 'hongkong', 'ireland', 'italy', 'japan',\n",
       "       'macau', 'malaysia', 'mauritius', 'netherland', 'new zealand',\n",
       "       'norway', 'pakistan', 'portugal', 'russian federation',\n",
       "       'saudi arabia', 'scotland', 'singapore', 'south korea', 'spain',\n",
       "       'sweden', 'thailand', 'turkey', 'uk', 'urbana', 'usa', 'usofa'],\n",
       "      dtype=object)"
      ]
     },
     "execution_count": 9,
     "metadata": {},
     "output_type": "execute_result"
    }
   ],
   "source": [
    "# get all the unique values in the 'City' column\n",
    "countries = professors['Country'].unique()\n",
    "\n",
    "# sort them alphabetically and then take a closer look\n",
    "countries.sort()\n",
    "countries"
   ]
  },
  {
   "cell_type": "markdown",
   "id": "1ce2db44",
   "metadata": {
    "papermill": {
     "duration": 0.009399,
     "end_time": "2023-09-09T07:42:14.859002",
     "exception": false,
     "start_time": "2023-09-09T07:42:14.849603",
     "status": "completed"
    },
    "tags": []
   },
   "source": [
    "Take another look at the \"Country\" column and see if there's any more data cleaning we need to do.\n",
    "\n",
    "It looks like 'usa' and 'usofa' should be the same country.  Correct the \"Country\" column in the dataframe to replace 'usofa' with 'usa'.\n",
    "\n",
    "**Use the most recent version of the DataFrame (with the whitespaces at the beginning and end of cells removed) from question 2.**"
   ]
  },
  {
   "cell_type": "code",
   "execution_count": 10,
   "id": "9a9d3e97",
   "metadata": {
    "execution": {
     "iopub.execute_input": "2023-09-09T07:42:14.880506Z",
     "iopub.status.busy": "2023-09-09T07:42:14.880088Z",
     "iopub.status.idle": "2023-09-09T07:42:14.893972Z",
     "shell.execute_reply": "2023-09-09T07:42:14.892850Z"
    },
    "papermill": {
     "duration": 0.027284,
     "end_time": "2023-09-09T07:42:14.896442",
     "exception": false,
     "start_time": "2023-09-09T07:42:14.869158",
     "status": "completed"
    },
    "tags": []
   },
   "outputs": [
    {
     "name": "stdout",
     "output_type": "stream",
     "text": [
      "All done!\n"
     ]
    },
    {
     "data": {
      "application/javascript": [
       "parent.postMessage({\"jupyterEvent\": \"custom.exercise_interaction\", \"data\": {\"outcomeType\": 1, \"valueTowardsCompletion\": 0.3333333333333333, \"interactionType\": 1, \"questionType\": 1, \"questionId\": \"3_WorkingWithCities\", \"learnToolsVersion\": \"0.3.4\", \"failureMessage\": \"\", \"exceptionClass\": \"\", \"trace\": \"\"}}, \"*\")"
      ],
      "text/plain": [
       "<IPython.core.display.Javascript object>"
      ]
     },
     "metadata": {},
     "output_type": "display_data"
    },
    {
     "data": {
      "text/markdown": [
       "<span style=\"color:#33cc33\">Correct</span>"
      ],
      "text/plain": [
       "Correct"
      ]
     },
     "metadata": {},
     "output_type": "display_data"
    }
   ],
   "source": [
    "# TODO: Your code here!\n",
    "matches = fuzzywuzzy.process.extract(\"usa\", countries, limit=10, scorer=fuzzywuzzy.fuzz.token_sort_ratio)\n",
    "replace_matches_in_column(df=professors, column='Country', string_to_match=\"usa\", min_ratio=70)\n",
    "\n",
    "# Check your answer\n",
    "q3.check()"
   ]
  },
  {
   "cell_type": "code",
   "execution_count": 11,
   "id": "aac49cce",
   "metadata": {
    "execution": {
     "iopub.execute_input": "2023-09-09T07:42:14.918377Z",
     "iopub.status.busy": "2023-09-09T07:42:14.917953Z",
     "iopub.status.idle": "2023-09-09T07:42:14.923035Z",
     "shell.execute_reply": "2023-09-09T07:42:14.921738Z"
    },
    "papermill": {
     "duration": 0.019285,
     "end_time": "2023-09-09T07:42:14.925824",
     "exception": false,
     "start_time": "2023-09-09T07:42:14.906539",
     "status": "completed"
    },
    "tags": []
   },
   "outputs": [],
   "source": [
    "# Lines below will give you a hint or solution code\n",
    "#q3.hint()\n",
    "#q3.solution()"
   ]
  },
  {
   "cell_type": "markdown",
   "id": "9c27b85d",
   "metadata": {
    "papermill": {
     "duration": 0.009869,
     "end_time": "2023-09-09T07:42:14.947308",
     "exception": false,
     "start_time": "2023-09-09T07:42:14.937439",
     "status": "completed"
    },
    "tags": []
   },
   "source": [
    "# Congratulations!\n",
    "\n",
    "Congratulations for completing the **Data Cleaning** course on Kaggle Learn!\n",
    "\n",
    "To practice your new skills, you're encouraged to download and investigate some of [Kaggle's Datasets](https://www.kaggle.com/datasets)."
   ]
  },
  {
   "cell_type": "markdown",
   "id": "2c1fabaa",
   "metadata": {
    "papermill": {
     "duration": 0.00961,
     "end_time": "2023-09-09T07:42:14.966937",
     "exception": false,
     "start_time": "2023-09-09T07:42:14.957327",
     "status": "completed"
    },
    "tags": []
   },
   "source": [
    "---\n",
    "\n",
    "\n",
    "\n",
    "\n",
    "*Have questions or comments? Visit the [course discussion forum](https://www.kaggle.com/learn/data-cleaning/discussion) to chat with other learners.*"
   ]
  }
 ],
 "kernelspec": {
  "display_name": "Python 3",
  "language": "python",
  "name": "python3"
 },
 "language_info": {
  "codemirror_mode": {
   "name": "ipython",
   "version": 3
  },
  "file_extension": ".py",
  "mimetype": "text/x-python",
  "name": "python",
  "nbconvert_exporter": "python",
  "pygments_lexer": "ipython3",
  "version": "3.6.4"
 },
 "metadata": {
  "kernelspec": {
   "display_name": "Python 3",
   "language": "python",
   "name": "python3"
  },
  "language_info": {
   "codemirror_mode": {
    "name": "ipython",
    "version": 3
   },
   "file_extension": ".py",
   "mimetype": "text/x-python",
   "name": "python",
   "nbconvert_exporter": "python",
   "pygments_lexer": "ipython3",
   "version": "3.10.12"
  },
  "papermill": {
   "default_parameters": {},
   "duration": 5.147169,
   "end_time": "2023-09-09T07:42:15.396444",
   "environment_variables": {},
   "exception": null,
   "input_path": "__notebook__.ipynb",
   "output_path": "__notebook__.ipynb",
   "parameters": {},
   "start_time": "2023-09-09T07:42:10.249275",
   "version": "2.4.0"
  }
 },
 "nbformat": 4,
 "nbformat_minor": 5
}

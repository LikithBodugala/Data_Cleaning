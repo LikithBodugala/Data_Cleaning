{
 "cells": [
  {
   "cell_type": "markdown",
   "id": "a16ed56f",
   "metadata": {
    "papermill": {
     "duration": 0.009082,
     "end_time": "2023-09-09T07:38:30.234838",
     "exception": false,
     "start_time": "2023-09-09T07:38:30.225756",
     "status": "completed"
    },
    "tags": []
   },
   "source": [
    "**This notebook is an exercise in the [Data Cleaning](https://www.kaggle.com/learn/data-cleaning) course.  You can reference the tutorial at [this link](https://www.kaggle.com/alexisbcook/character-encodings).**\n",
    "\n",
    "---\n"
   ]
  },
  {
   "cell_type": "markdown",
   "id": "ed714a8b",
   "metadata": {
    "papermill": {
     "duration": 0.008122,
     "end_time": "2023-09-09T07:38:30.251641",
     "exception": false,
     "start_time": "2023-09-09T07:38:30.243519",
     "status": "completed"
    },
    "tags": []
   },
   "source": [
    "In this exercise, you'll apply what you learned in the **Character encodings** tutorial.\n",
    "\n",
    "# Setup\n",
    "\n",
    "The questions below will give you feedback on your work. Run the following cell to set up the feedback system."
   ]
  },
  {
   "cell_type": "code",
   "execution_count": 1,
   "id": "13412e17",
   "metadata": {
    "execution": {
     "iopub.execute_input": "2023-09-09T07:38:30.270696Z",
     "iopub.status.busy": "2023-09-09T07:38:30.269885Z",
     "iopub.status.idle": "2023-09-09T07:38:30.807315Z",
     "shell.execute_reply": "2023-09-09T07:38:30.806426Z"
    },
    "papermill": {
     "duration": 0.54993,
     "end_time": "2023-09-09T07:38:30.810027",
     "exception": false,
     "start_time": "2023-09-09T07:38:30.260097",
     "status": "completed"
    },
    "tags": []
   },
   "outputs": [
    {
     "name": "stdout",
     "output_type": "stream",
     "text": [
      "Setup Complete\n"
     ]
    }
   ],
   "source": [
    "from learntools.core import binder\n",
    "binder.bind(globals())\n",
    "from learntools.data_cleaning.ex4 import *\n",
    "print(\"Setup Complete\")"
   ]
  },
  {
   "cell_type": "markdown",
   "id": "155dd3d7",
   "metadata": {
    "papermill": {
     "duration": 0.008317,
     "end_time": "2023-09-09T07:38:30.826967",
     "exception": false,
     "start_time": "2023-09-09T07:38:30.818650",
     "status": "completed"
    },
    "tags": []
   },
   "source": [
    "# Get our environment set up\n",
    "\n",
    "The first thing we'll need to do is load in the libraries we'll be using."
   ]
  },
  {
   "cell_type": "code",
   "execution_count": 2,
   "id": "2983a9f5",
   "metadata": {
    "execution": {
     "iopub.execute_input": "2023-09-09T07:38:30.846118Z",
     "iopub.status.busy": "2023-09-09T07:38:30.845318Z",
     "iopub.status.idle": "2023-09-09T07:38:30.850867Z",
     "shell.execute_reply": "2023-09-09T07:38:30.850041Z"
    },
    "papermill": {
     "duration": 0.017969,
     "end_time": "2023-09-09T07:38:30.853296",
     "exception": false,
     "start_time": "2023-09-09T07:38:30.835327",
     "status": "completed"
    },
    "tags": []
   },
   "outputs": [],
   "source": [
    "# modules we'll use\n",
    "import pandas as pd\n",
    "import numpy as np\n",
    "\n",
    "# helpful character encoding module\n",
    "import charset_normalizer\n",
    "\n",
    "# set seed for reproducibility\n",
    "np.random.seed(0)"
   ]
  },
  {
   "cell_type": "markdown",
   "id": "ed989620",
   "metadata": {
    "papermill": {
     "duration": 0.008085,
     "end_time": "2023-09-09T07:38:30.870604",
     "exception": false,
     "start_time": "2023-09-09T07:38:30.862519",
     "status": "completed"
    },
    "tags": []
   },
   "source": [
    "# 1) What are encodings?\n",
    "\n",
    "You're working with a dataset composed of bytes.  Run the code cell below to print a sample entry."
   ]
  },
  {
   "cell_type": "markdown",
   "id": "cd5f1b5f",
   "metadata": {
    "papermill": {
     "duration": 0.00832,
     "end_time": "2023-09-09T07:38:30.887542",
     "exception": false,
     "start_time": "2023-09-09T07:38:30.879222",
     "status": "completed"
    },
    "tags": []
   },
   "source": [
    "Character encodings are specific set of rules, which is used to for mapping from binary data to character data."
   ]
  },
  {
   "cell_type": "code",
   "execution_count": 3,
   "id": "2c28c550",
   "metadata": {
    "execution": {
     "iopub.execute_input": "2023-09-09T07:38:30.906510Z",
     "iopub.status.busy": "2023-09-09T07:38:30.906063Z",
     "iopub.status.idle": "2023-09-09T07:38:30.911856Z",
     "shell.execute_reply": "2023-09-09T07:38:30.910662Z"
    },
    "papermill": {
     "duration": 0.019434,
     "end_time": "2023-09-09T07:38:30.915461",
     "exception": false,
     "start_time": "2023-09-09T07:38:30.896027",
     "status": "completed"
    },
    "tags": []
   },
   "outputs": [
    {
     "name": "stdout",
     "output_type": "stream",
     "text": [
      "b'\\xa7A\\xa6n'\n",
      "data type: <class 'bytes'>\n"
     ]
    }
   ],
   "source": [
    "sample_entry = b'\\xa7A\\xa6n'\n",
    "print(sample_entry)\n",
    "print('data type:', type(sample_entry))"
   ]
  },
  {
   "cell_type": "markdown",
   "id": "9b61468c",
   "metadata": {
    "papermill": {
     "duration": 0.008516,
     "end_time": "2023-09-09T07:38:30.932532",
     "exception": false,
     "start_time": "2023-09-09T07:38:30.924016",
     "status": "completed"
    },
    "tags": []
   },
   "source": [
    "You notice that it doesn't use the standard UTF-8 encoding. \n",
    "\n",
    "Use the next code cell to create a variable `new_entry` that changes the encoding from `\"big5-tw\"` to `\"utf-8\"`.  `new_entry` should have the bytes datatype."
   ]
  },
  {
   "cell_type": "code",
   "execution_count": 4,
   "id": "98f5baae",
   "metadata": {
    "execution": {
     "iopub.execute_input": "2023-09-09T07:38:30.951470Z",
     "iopub.status.busy": "2023-09-09T07:38:30.951003Z",
     "iopub.status.idle": "2023-09-09T07:38:30.961098Z",
     "shell.execute_reply": "2023-09-09T07:38:30.960220Z"
    },
    "papermill": {
     "duration": 0.022765,
     "end_time": "2023-09-09T07:38:30.963642",
     "exception": false,
     "start_time": "2023-09-09T07:38:30.940877",
     "status": "completed"
    },
    "tags": []
   },
   "outputs": [
    {
     "data": {
      "application/javascript": [
       "parent.postMessage({\"jupyterEvent\": \"custom.exercise_interaction\", \"data\": {\"outcomeType\": 4, \"interactionType\": 1, \"questionType\": 1, \"questionId\": \"2_ReadIn\", \"learnToolsVersion\": \"0.3.4\", \"valueTowardsCompletion\": 0.0, \"failureMessage\": \"\", \"exceptionClass\": \"\", \"trace\": \"\"}}, \"*\")"
      ],
      "text/plain": [
       "<IPython.core.display.Javascript object>"
      ]
     },
     "metadata": {},
     "output_type": "display_data"
    },
    {
     "data": {
      "text/markdown": [
       "<span style=\"color:#ccaa33\">Check:</span> When you've updated the starter code, `check()` will tell you whether your code is correct. Remember, you must create the following variable: `police_killings`"
      ],
      "text/plain": [
       "Check: When you've updated the starter code, `check()` will tell you whether your code is correct. Remember, you must create the following variable: `police_killings`"
      ]
     },
     "metadata": {},
     "output_type": "display_data"
    }
   ],
   "source": [
    "new_entry = sample_entry.decode(\"big5-tw\")\n",
    "q2.check()"
   ]
  },
  {
   "cell_type": "code",
   "execution_count": 5,
   "id": "c2b6928f",
   "metadata": {
    "execution": {
     "iopub.execute_input": "2023-09-09T07:38:30.983961Z",
     "iopub.status.busy": "2023-09-09T07:38:30.982950Z",
     "iopub.status.idle": "2023-09-09T07:38:30.988771Z",
     "shell.execute_reply": "2023-09-09T07:38:30.987663Z"
    },
    "papermill": {
     "duration": 0.018615,
     "end_time": "2023-09-09T07:38:30.991208",
     "exception": false,
     "start_time": "2023-09-09T07:38:30.972593",
     "status": "completed"
    },
    "tags": []
   },
   "outputs": [
    {
     "name": "stdout",
     "output_type": "stream",
     "text": [
      "你好\n"
     ]
    }
   ],
   "source": [
    "# Lines below will give you a hint or solution code\n",
    "#q1.hint()\n",
    "#q1.solution()\n",
    "print(new_entry)"
   ]
  },
  {
   "cell_type": "markdown",
   "id": "b1101ae3",
   "metadata": {
    "papermill": {
     "duration": 0.00959,
     "end_time": "2023-09-09T07:38:31.009870",
     "exception": false,
     "start_time": "2023-09-09T07:38:31.000280",
     "status": "completed"
    },
    "tags": []
   },
   "source": [
    "# 2) Reading in files with encoding problems\n",
    "\n",
    "Use the code cell below to read in this file at path `\"../input/fatal-police-shootings-in-the-us/PoliceKillingsUS.csv\"`.  \n",
    "\n",
    "Figure out what the correct encoding should be and read in the file to a DataFrame `police_killings`."
   ]
  },
  {
   "cell_type": "code",
   "execution_count": 6,
   "id": "bb930578",
   "metadata": {
    "execution": {
     "iopub.execute_input": "2023-09-09T07:38:31.030800Z",
     "iopub.status.busy": "2023-09-09T07:38:31.030371Z",
     "iopub.status.idle": "2023-09-09T07:38:31.061285Z",
     "shell.execute_reply": "2023-09-09T07:38:31.060188Z"
    },
    "papermill": {
     "duration": 0.043894,
     "end_time": "2023-09-09T07:38:31.063749",
     "exception": false,
     "start_time": "2023-09-09T07:38:31.019855",
     "status": "completed"
    },
    "tags": []
   },
   "outputs": [
    {
     "data": {
      "application/javascript": [
       "parent.postMessage({\"jupyterEvent\": \"custom.exercise_interaction\", \"data\": {\"outcomeType\": 1, \"valueTowardsCompletion\": 0.3333333333333333, \"interactionType\": 1, \"questionType\": 1, \"questionId\": \"2_ReadIn\", \"learnToolsVersion\": \"0.3.4\", \"failureMessage\": \"\", \"exceptionClass\": \"\", \"trace\": \"\"}}, \"*\")"
      ],
      "text/plain": [
       "<IPython.core.display.Javascript object>"
      ]
     },
     "metadata": {},
     "output_type": "display_data"
    },
    {
     "data": {
      "text/markdown": [
       "<span style=\"color:#33cc33\">Correct</span>"
      ],
      "text/plain": [
       "Correct"
      ]
     },
     "metadata": {},
     "output_type": "display_data"
    }
   ],
   "source": [
    "# TODO: Load in the DataFrame correctly.\n",
    "police_killings = pd.read_csv(\"../input/fatal-police-shootings-in-the-us/PoliceKillingsUS.csv\", encoding='Windows-1252')\n",
    "\n",
    "# Check your answer\n",
    "q2.check()"
   ]
  },
  {
   "cell_type": "markdown",
   "id": "abb59339",
   "metadata": {
    "papermill": {
     "duration": 0.00965,
     "end_time": "2023-09-09T07:38:31.082939",
     "exception": false,
     "start_time": "2023-09-09T07:38:31.073289",
     "status": "completed"
    },
    "tags": []
   },
   "source": [
    "Feel free to use any additional code cells for supplemental work.  To get credit for finishing this question, you'll need to run `q2.check()` and get a result of **Correct**."
   ]
  },
  {
   "cell_type": "code",
   "execution_count": 7,
   "id": "d08d9677",
   "metadata": {
    "execution": {
     "iopub.execute_input": "2023-09-09T07:38:31.104071Z",
     "iopub.status.busy": "2023-09-09T07:38:31.103038Z",
     "iopub.status.idle": "2023-09-09T07:38:31.123871Z",
     "shell.execute_reply": "2023-09-09T07:38:31.122394Z"
    },
    "papermill": {
     "duration": 0.034532,
     "end_time": "2023-09-09T07:38:31.126906",
     "exception": false,
     "start_time": "2023-09-09T07:38:31.092374",
     "status": "completed"
    },
    "tags": []
   },
   "outputs": [
    {
     "name": "stdout",
     "output_type": "stream",
     "text": [
      "        id                name      date   manner_of_death       armed   age  \\\n",
      "0        3          Tim Elliot  02/01/15              shot         gun  53.0   \n",
      "1        4    Lewis Lee Lembke  02/01/15              shot         gun  47.0   \n",
      "2        5  John Paul Quintero  03/01/15  shot and Tasered     unarmed  23.0   \n",
      "3        8     Matthew Hoffman  04/01/15              shot  toy weapon  32.0   \n",
      "4        9   Michael Rodriguez  04/01/15              shot    nail gun  39.0   \n",
      "...    ...                 ...       ...               ...         ...   ...   \n",
      "2530  2822    Rodney E. Jacobs  28/07/17              shot         gun  31.0   \n",
      "2531  2813               TK TK  28/07/17              shot     vehicle   NaN   \n",
      "2532  2818  Dennis W. Robinson  29/07/17              shot         gun  48.0   \n",
      "2533  2817       Isaiah Tucker  31/07/17              shot     vehicle  28.0   \n",
      "2534  2815        Dwayne Jeune  31/07/17              shot       knife  32.0   \n",
      "\n",
      "     gender race           city state  signs_of_mental_illness threat_level  \\\n",
      "0         M    A        Shelton    WA                     True       attack   \n",
      "1         M    W          Aloha    OR                    False       attack   \n",
      "2         M    H        Wichita    KS                    False        other   \n",
      "3         M    W  San Francisco    CA                     True       attack   \n",
      "4         M    H          Evans    CO                    False       attack   \n",
      "...     ...  ...            ...   ...                      ...          ...   \n",
      "2530      M  NaN    Kansas City    MO                    False       attack   \n",
      "2531      M  NaN    Albuquerque    NM                    False       attack   \n",
      "2532      M  NaN          Melba    ID                    False       attack   \n",
      "2533      M    B        Oshkosh    WI                    False       attack   \n",
      "2534      M    B       Brooklyn    NY                     True       attack   \n",
      "\n",
      "             flee  body_camera  \n",
      "0     Not fleeing        False  \n",
      "1     Not fleeing        False  \n",
      "2     Not fleeing        False  \n",
      "3     Not fleeing        False  \n",
      "4     Not fleeing        False  \n",
      "...           ...          ...  \n",
      "2530  Not fleeing        False  \n",
      "2531          Car        False  \n",
      "2532          Car        False  \n",
      "2533          Car         True  \n",
      "2534  Not fleeing        False  \n",
      "\n",
      "[2535 rows x 14 columns]\n"
     ]
    }
   ],
   "source": [
    "# (Optional) Use this code cell for any additional work.\n",
    "print(police_killings)"
   ]
  },
  {
   "cell_type": "code",
   "execution_count": 8,
   "id": "8381f44b",
   "metadata": {
    "execution": {
     "iopub.execute_input": "2023-09-09T07:38:31.148029Z",
     "iopub.status.busy": "2023-09-09T07:38:31.147632Z",
     "iopub.status.idle": "2023-09-09T07:38:31.169926Z",
     "shell.execute_reply": "2023-09-09T07:38:31.168688Z"
    },
    "papermill": {
     "duration": 0.036102,
     "end_time": "2023-09-09T07:38:31.172590",
     "exception": false,
     "start_time": "2023-09-09T07:38:31.136488",
     "status": "completed"
    },
    "tags": []
   },
   "outputs": [
    {
     "data": {
      "text/html": [
       "<div>\n",
       "<style scoped>\n",
       "    .dataframe tbody tr th:only-of-type {\n",
       "        vertical-align: middle;\n",
       "    }\n",
       "\n",
       "    .dataframe tbody tr th {\n",
       "        vertical-align: top;\n",
       "    }\n",
       "\n",
       "    .dataframe thead th {\n",
       "        text-align: right;\n",
       "    }\n",
       "</style>\n",
       "<table border=\"1\" class=\"dataframe\">\n",
       "  <thead>\n",
       "    <tr style=\"text-align: right;\">\n",
       "      <th></th>\n",
       "      <th>id</th>\n",
       "      <th>name</th>\n",
       "      <th>date</th>\n",
       "      <th>manner_of_death</th>\n",
       "      <th>armed</th>\n",
       "      <th>age</th>\n",
       "      <th>gender</th>\n",
       "      <th>race</th>\n",
       "      <th>city</th>\n",
       "      <th>state</th>\n",
       "      <th>signs_of_mental_illness</th>\n",
       "      <th>threat_level</th>\n",
       "      <th>flee</th>\n",
       "      <th>body_camera</th>\n",
       "    </tr>\n",
       "  </thead>\n",
       "  <tbody>\n",
       "    <tr>\n",
       "      <th>0</th>\n",
       "      <td>3</td>\n",
       "      <td>Tim Elliot</td>\n",
       "      <td>02/01/15</td>\n",
       "      <td>shot</td>\n",
       "      <td>gun</td>\n",
       "      <td>53.0</td>\n",
       "      <td>M</td>\n",
       "      <td>A</td>\n",
       "      <td>Shelton</td>\n",
       "      <td>WA</td>\n",
       "      <td>True</td>\n",
       "      <td>attack</td>\n",
       "      <td>Not fleeing</td>\n",
       "      <td>False</td>\n",
       "    </tr>\n",
       "    <tr>\n",
       "      <th>1</th>\n",
       "      <td>4</td>\n",
       "      <td>Lewis Lee Lembke</td>\n",
       "      <td>02/01/15</td>\n",
       "      <td>shot</td>\n",
       "      <td>gun</td>\n",
       "      <td>47.0</td>\n",
       "      <td>M</td>\n",
       "      <td>W</td>\n",
       "      <td>Aloha</td>\n",
       "      <td>OR</td>\n",
       "      <td>False</td>\n",
       "      <td>attack</td>\n",
       "      <td>Not fleeing</td>\n",
       "      <td>False</td>\n",
       "    </tr>\n",
       "    <tr>\n",
       "      <th>2</th>\n",
       "      <td>5</td>\n",
       "      <td>John Paul Quintero</td>\n",
       "      <td>03/01/15</td>\n",
       "      <td>shot and Tasered</td>\n",
       "      <td>unarmed</td>\n",
       "      <td>23.0</td>\n",
       "      <td>M</td>\n",
       "      <td>H</td>\n",
       "      <td>Wichita</td>\n",
       "      <td>KS</td>\n",
       "      <td>False</td>\n",
       "      <td>other</td>\n",
       "      <td>Not fleeing</td>\n",
       "      <td>False</td>\n",
       "    </tr>\n",
       "    <tr>\n",
       "      <th>3</th>\n",
       "      <td>8</td>\n",
       "      <td>Matthew Hoffman</td>\n",
       "      <td>04/01/15</td>\n",
       "      <td>shot</td>\n",
       "      <td>toy weapon</td>\n",
       "      <td>32.0</td>\n",
       "      <td>M</td>\n",
       "      <td>W</td>\n",
       "      <td>San Francisco</td>\n",
       "      <td>CA</td>\n",
       "      <td>True</td>\n",
       "      <td>attack</td>\n",
       "      <td>Not fleeing</td>\n",
       "      <td>False</td>\n",
       "    </tr>\n",
       "    <tr>\n",
       "      <th>4</th>\n",
       "      <td>9</td>\n",
       "      <td>Michael Rodriguez</td>\n",
       "      <td>04/01/15</td>\n",
       "      <td>shot</td>\n",
       "      <td>nail gun</td>\n",
       "      <td>39.0</td>\n",
       "      <td>M</td>\n",
       "      <td>H</td>\n",
       "      <td>Evans</td>\n",
       "      <td>CO</td>\n",
       "      <td>False</td>\n",
       "      <td>attack</td>\n",
       "      <td>Not fleeing</td>\n",
       "      <td>False</td>\n",
       "    </tr>\n",
       "  </tbody>\n",
       "</table>\n",
       "</div>"
      ],
      "text/plain": [
       "   id                name      date   manner_of_death       armed   age  \\\n",
       "0   3          Tim Elliot  02/01/15              shot         gun  53.0   \n",
       "1   4    Lewis Lee Lembke  02/01/15              shot         gun  47.0   \n",
       "2   5  John Paul Quintero  03/01/15  shot and Tasered     unarmed  23.0   \n",
       "3   8     Matthew Hoffman  04/01/15              shot  toy weapon  32.0   \n",
       "4   9   Michael Rodriguez  04/01/15              shot    nail gun  39.0   \n",
       "\n",
       "  gender race           city state  signs_of_mental_illness threat_level  \\\n",
       "0      M    A        Shelton    WA                     True       attack   \n",
       "1      M    W          Aloha    OR                    False       attack   \n",
       "2      M    H        Wichita    KS                    False        other   \n",
       "3      M    W  San Francisco    CA                     True       attack   \n",
       "4      M    H          Evans    CO                    False       attack   \n",
       "\n",
       "          flee  body_camera  \n",
       "0  Not fleeing        False  \n",
       "1  Not fleeing        False  \n",
       "2  Not fleeing        False  \n",
       "3  Not fleeing        False  \n",
       "4  Not fleeing        False  "
      ]
     },
     "execution_count": 8,
     "metadata": {},
     "output_type": "execute_result"
    }
   ],
   "source": [
    "# Lines below will give you a hint or solution code\n",
    "#q2.hint()\n",
    "#q2.solution()\n",
    "police_killings.head()"
   ]
  },
  {
   "cell_type": "markdown",
   "id": "6aa282a8",
   "metadata": {
    "papermill": {
     "duration": 0.009607,
     "end_time": "2023-09-09T07:38:31.192123",
     "exception": false,
     "start_time": "2023-09-09T07:38:31.182516",
     "status": "completed"
    },
    "tags": []
   },
   "source": [
    "# 3) Saving your files with UTF-8 encoding\n",
    "\n",
    "Save a version of the police killings dataset to CSV with UTF-8 encoding.  Your answer will be marked correct after saving this file.  \n",
    "\n",
    "Note: When using the `to_csv()` method, supply only the name of the file (e.g., `\"my_file.csv\"`).  This saves the file at the filepath `\"/kaggle/working/my_file.csv\"`."
   ]
  },
  {
   "cell_type": "code",
   "execution_count": 9,
   "id": "9fd56781",
   "metadata": {
    "execution": {
     "iopub.execute_input": "2023-09-09T07:38:31.213867Z",
     "iopub.status.busy": "2023-09-09T07:38:31.213453Z",
     "iopub.status.idle": "2023-09-09T07:38:31.264177Z",
     "shell.execute_reply": "2023-09-09T07:38:31.263238Z"
    },
    "papermill": {
     "duration": 0.064642,
     "end_time": "2023-09-09T07:38:31.266723",
     "exception": false,
     "start_time": "2023-09-09T07:38:31.202081",
     "status": "completed"
    },
    "tags": []
   },
   "outputs": [
    {
     "data": {
      "application/javascript": [
       "parent.postMessage({\"jupyterEvent\": \"custom.exercise_interaction\", \"data\": {\"outcomeType\": 1, \"valueTowardsCompletion\": 0.3333333333333333, \"interactionType\": 1, \"questionType\": 2, \"questionId\": \"3_SaveCSV\", \"learnToolsVersion\": \"0.3.4\", \"failureMessage\": \"\", \"exceptionClass\": \"\", \"trace\": \"\"}}, \"*\")"
      ],
      "text/plain": [
       "<IPython.core.display.Javascript object>"
      ]
     },
     "metadata": {},
     "output_type": "display_data"
    },
    {
     "data": {
      "text/markdown": [
       "<span style=\"color:#33cc33\">Correct</span>"
      ],
      "text/plain": [
       "Correct"
      ]
     },
     "metadata": {},
     "output_type": "display_data"
    }
   ],
   "source": [
    "# TODO: Save the police killings dataset to CSV\n",
    "____\n",
    "police_killings.to_csv(\"/kaggle/working/my_file.csv\")\n",
    "\n",
    "# Check your answer\n",
    "q3.check()"
   ]
  },
  {
   "cell_type": "code",
   "execution_count": 10,
   "id": "d4b04f23",
   "metadata": {
    "execution": {
     "iopub.execute_input": "2023-09-09T07:38:31.290965Z",
     "iopub.status.busy": "2023-09-09T07:38:31.289963Z",
     "iopub.status.idle": "2023-09-09T07:38:31.294414Z",
     "shell.execute_reply": "2023-09-09T07:38:31.293449Z"
    },
    "papermill": {
     "duration": 0.018699,
     "end_time": "2023-09-09T07:38:31.296880",
     "exception": false,
     "start_time": "2023-09-09T07:38:31.278181",
     "status": "completed"
    },
    "tags": []
   },
   "outputs": [],
   "source": [
    "# Lines below will give you a hint or solution code\n",
    "#q3.hint()\n",
    "#q3.solution()"
   ]
  },
  {
   "cell_type": "markdown",
   "id": "ef0c63f1",
   "metadata": {
    "papermill": {
     "duration": 0.009981,
     "end_time": "2023-09-09T07:38:31.317274",
     "exception": false,
     "start_time": "2023-09-09T07:38:31.307293",
     "status": "completed"
    },
    "tags": []
   },
   "source": [
    "# (Optional) More practice\n",
    "\n",
    "Check out [this dataset of files in different character encodings](https://www.kaggle.com/rtatman/character-encoding-examples). Can you read in all the files with their original encodings and them save them out as UTF-8 files?\n",
    "\n",
    "If you have a file that's in UTF-8 but has just a couple of weird-looking characters in it, you can try out the [ftfy module](https://ftfy.readthedocs.io/en/latest/#) and see if it helps. \n",
    "\n",
    "# Keep going\n",
    "\n",
    "In the final lesson, learn how to [**clean up inconsistent text entries**](https://www.kaggle.com/alexisbcook/inconsistent-data-entry) in your dataset."
   ]
  },
  {
   "cell_type": "markdown",
   "id": "686cfcca",
   "metadata": {
    "papermill": {
     "duration": 0.01082,
     "end_time": "2023-09-09T07:38:31.338524",
     "exception": false,
     "start_time": "2023-09-09T07:38:31.327704",
     "status": "completed"
    },
    "tags": []
   },
   "source": [
    "---\n",
    "\n",
    "\n",
    "\n",
    "\n",
    "*Have questions or comments? Visit the [course discussion forum](https://www.kaggle.com/learn/data-cleaning/discussion) to chat with other learners.*"
   ]
  }
 ],
 "kernelspec": {
  "display_name": "Python 3",
  "language": "python",
  "name": "python3"
 },
 "language_info": {
  "codemirror_mode": {
   "name": "ipython",
   "version": 3
  },
  "file_extension": ".py",
  "mimetype": "text/x-python",
  "name": "python",
  "nbconvert_exporter": "python",
  "pygments_lexer": "ipython3",
  "version": "3.6.4"
 },
 "metadata": {
  "kernelspec": {
   "display_name": "Python 3",
   "language": "python",
   "name": "python3"
  },
  "language_info": {
   "codemirror_mode": {
    "name": "ipython",
    "version": 3
   },
   "file_extension": ".py",
   "mimetype": "text/x-python",
   "name": "python",
   "nbconvert_exporter": "python",
   "pygments_lexer": "ipython3",
   "version": "3.10.12"
  },
  "papermill": {
   "default_parameters": {},
   "duration": 5.408582,
   "end_time": "2023-09-09T07:38:31.870277",
   "environment_variables": {},
   "exception": null,
   "input_path": "__notebook__.ipynb",
   "output_path": "__notebook__.ipynb",
   "parameters": {},
   "start_time": "2023-09-09T07:38:26.461695",
   "version": "2.4.0"
  }
 },
 "nbformat": 4,
 "nbformat_minor": 5
}
